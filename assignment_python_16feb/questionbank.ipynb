{
 "cells": [
  {
   "cell_type": "markdown",
   "metadata": {},
   "source": [
    "# 1.Create the empty list and ask user to enters only int, float elements in the list."
   ]
  },
  {
   "cell_type": "code",
   "execution_count": null,
   "metadata": {},
   "outputs": [],
   "source": [
    "li=[]\n",
    "def func():\n",
    " while True:\n",
    "    a=input('enter int or float value ')\n",
    "    try:\n",
    "        num=int(a)\n",
    "        li.append(num)\n",
    "    except:\n",
    "        try:\n",
    "            n=float(a)\n",
    "            li.append(n)\n",
    "        except:\n",
    "            print(\"Invalid Input\")\n",
    "    b=input('enter 0 to exit or any key to continue ')\n",
    "    if(b=='0'): break\n",
    " return li    \n",
    "print(func())"
   ]
  },
  {
   "cell_type": "markdown",
   "metadata": {},
   "source": [
    "# 2.Create a empty dictionary d1 ask user to enter the values using loop"
   ]
  },
  {
   "cell_type": "code",
   "execution_count": null,
   "metadata": {},
   "outputs": [],
   "source": [
    "d={}\n",
    "def func():\n",
    " while True:\n",
    "    k=input(\"enter the key \")\n",
    "    v=input('Enter the value ')\n",
    "    d[k]=v\n",
    "    b=input('enter 0 to exit or any key to continue ')\n",
    "    if(b=='0'): break\n",
    " return d                 \n",
    "print(func()) "
   ]
  },
  {
   "cell_type": "markdown",
   "metadata": {},
   "source": [
    "#### 3.Create a empty dictionary d1 ask user to enter the values using comprehensive list"
   ]
  },
  {
   "cell_type": "code",
   "execution_count": null,
   "metadata": {},
   "outputs": [],
   "source": [
    "d1 = {input(\"Enter key: \"): input(\"Enter value: \") \n",
    "      for _ in range(int(input(\"How many key-value pairs? \")))}\n",
    "print(d1)"
   ]
  },
  {
   "cell_type": "markdown",
   "metadata": {},
   "source": [
    "#### 4.Create a function which will accept two integer or float parameter from user and return 4 arithmetic operations in the form of tuple. If user pass argument other than integer and float then error should be created."
   ]
  },
  {
   "cell_type": "code",
   "execution_count": 3,
   "metadata": {},
   "outputs": [],
   "source": [
    "def validnum(a):\n",
    "   try:\n",
    "      c=int(a)\n",
    "      return c\n",
    "   except:\n",
    "      try:\n",
    "         c=float(a)\n",
    "         return c\n",
    "      except:\n",
    "         return False\n",
    "def operation(a,b,operator):\n",
    "   if operator in ('+','*','-','/','//'):\n",
    "      expression = f\"{a} {operator} {b}\"\n",
    "      try:\n",
    "       return [expression,eval(expression)]\n",
    "      except ZeroDivisionError:\n",
    "         return [expression,'Zero divison error']\n",
    "      except:\n",
    "         return 'error'  \n",
    "   return False"
   ]
  },
  {
   "cell_type": "code",
   "execution_count": 11,
   "metadata": {},
   "outputs": [
    {
     "name": "stdout",
     "output_type": "stream",
     "text": [
      "1 + 0 = 1\n",
      "1 - 0 = 1\n",
      "1 * 0 = 0\n",
      "1 / 0 = Zero divison error\n"
     ]
    },
    {
     "data": {
      "text/plain": [
       "(1, 1, 0, 'Zero divison error')"
      ]
     },
     "execution_count": 11,
     "metadata": {},
     "output_type": "execute_result"
    }
   ],
   "source": [
    "def calc(a,b):\n",
    "   if(validnum(a) is False or validnum(b) is False):\n",
    "      print('Innvalid number')\n",
    "      return \n",
    "   a=validnum(a)\n",
    "   b=validnum(b)\n",
    "   v1=operation(a,b,'+')\n",
    "   v2=operation(a,b,'-')\n",
    "   v3=operation(a,b,'*')\n",
    "   v4=operation(a,b,'/')\n",
    "   for i in [v1,v2,v3,v4]:\n",
    "      print(f'{i[0]} = {i[1]}')\n",
    "   return (v1[1],v2[1],v3[1],v4[1])      \n",
    "calc(1,0) "
   ]
  },
  {
   "cell_type": "markdown",
   "metadata": {},
   "source": [
    "#### 5. Based on the above function (Question number 4) dived the outcome of multiplication by 2. "
   ]
  },
  {
   "cell_type": "code",
   "execution_count": 9,
   "metadata": {},
   "outputs": [
    {
     "name": "stdout",
     "output_type": "stream",
     "text": [
      "(3, -1, 2, 0.5)\n",
      "1.5\n",
      "-0.5\n",
      "1.0\n",
      "0.25\n"
     ]
    }
   ],
   "source": [
    "def func5():\n",
    "   a=calc(1,2)\n",
    "   print(a)\n",
    "   for i in a:\n",
    "      print(operation(i,2,'/')[1])\n",
    "   \n",
    "func5() "
   ]
  },
  {
   "cell_type": "markdown",
   "metadata": {},
   "source": [
    "#### 6.create a function to add only string element in a list. if other than string display the appropriate message."
   ]
  },
  {
   "cell_type": "code",
   "execution_count": 12,
   "metadata": {},
   "outputs": [
    {
     "name": "stdout",
     "output_type": "stream",
     "text": [
      "1 is not a string value\n",
      "['e', 'esd']\n"
     ]
    }
   ],
   "source": [
    "l=[]\n",
    "def func6(s):\n",
    "   if(isinstance(s,str)):\n",
    "      l.append(s)\n",
    "   else:\n",
    "      print(f'{s} is not a string value')   \n",
    "      \n",
    "func6('e')  \n",
    "func6('esd')\n",
    "func6(1)    \n",
    "print(l)\n"
   ]
  },
  {
   "cell_type": "markdown",
   "metadata": {},
   "source": [
    "#### 7.Create a function to read the file and return the dictionary of total lines, total words"
   ]
  },
  {
   "cell_type": "code",
   "execution_count": 13,
   "metadata": {},
   "outputs": [
    {
     "name": "stdout",
     "output_type": "stream",
     "text": [
      "[{'file name': 'a.py', 'total_lines': 0, 'tot_words': 0}, {'file name': 'a.txt', 'total_lines': 4, 'tot_words': 10}]\n"
     ]
    }
   ],
   "source": [
    "import os\n",
    "l=[]\n",
    "def func7():\n",
    "   base_path=r'C:\\Users\\Rajesh kumar\\OneDrive\\Desktop\\python assignment\\myfolder'\n",
    "   files=os.listdir(base_path)\n",
    "   for i in files:\n",
    "      dirs=base_path+'\\\\'+i\n",
    "      with open(dirs,'r') as f:\n",
    "         lines=f.readlines()\n",
    "         tot_line=len(lines)\n",
    "         w=sum(len(line.split()) for line in lines)\n",
    "         l.append({'file name':i,'total_lines':tot_line,'tot_words':w})\n",
    "         \n",
    "                    \n",
    "func7() \n",
    "print(l)  "
   ]
  },
  {
   "cell_type": "markdown",
   "metadata": {},
   "source": [
    "#### 8.Create a function which will accept the dictionary and display key values in separate line."
   ]
  },
  {
   "cell_type": "code",
   "execution_count": 26,
   "metadata": {},
   "outputs": [
    {
     "name": "stdout",
     "output_type": "stream",
     "text": [
      "a\n",
      "b\n",
      "4\n",
      "9\n"
     ]
    }
   ],
   "source": [
    "def func8(**d):\n",
    "   k=d.keys()\n",
    "   v=d.values()\n",
    "   for i in k:\n",
    "      print(i)\n",
    "   for i in v:\n",
    "      print(i)\n",
    "func8(a=4,b=9)      "
   ]
  },
  {
   "cell_type": "markdown",
   "metadata": {},
   "source": [
    "#### 9.Create a lambda function which will accept the dictionary and display key values in separate line."
   ]
  },
  {
   "cell_type": "code",
   "execution_count": 56,
   "metadata": {},
   "outputs": [],
   "source": [
    "a = lambda **x : print(f\"{x.keys()} \\n {x.values()}\")"
   ]
  },
  {
   "cell_type": "code",
   "execution_count": 57,
   "metadata": {},
   "outputs": [
    {
     "name": "stdout",
     "output_type": "stream",
     "text": [
      "dict_keys(['a', 'b']) \n",
      " dict_values([12, 13])\n"
     ]
    }
   ],
   "source": [
    "a(**{\"a\":12,\"b\":13})"
   ]
  },
  {
   "cell_type": "markdown",
   "metadata": {},
   "source": [
    "#### 10.Create a function to validate the password: password should contains at least one small letter, one capital letter, one number, and one special character except comma, quotes"
   ]
  },
  {
   "cell_type": "code",
   "execution_count": 1,
   "metadata": {},
   "outputs": [],
   "source": [
    "import re\n",
    "\n",
    "def validate_(password):\n",
    " \n",
    "\n",
    "    if len(password) < 8:\n",
    "        return \"Password must be at least 8 characters long.\"\n",
    "\n",
    "    if not re.search(r\"[a-z]\", password):\n",
    "        return \"Password must contain at least one lowercase letter.\"\n",
    "    \n",
    "    if not re.search(r\"[A-Z]\", password):\n",
    "        return \"Password must contain at least one uppercase letter.\"\n",
    "    \n",
    "    if not re.search(r\"\\d\", password):\n",
    "        return \"Password must contain at least one number.\"\n",
    "    \n",
    "    if not re.search(r\"[!@#$%^&*()_+=\\-{}\\[\\]:;<>./?\\\\|]\", password):  # Excluding comma and quotes\n",
    "        return \"Password must contain at least one special character (except comma, quotes).\"\n",
    "    \n",
    "    if re.search(r\"[',\\\"]\", password): \n",
    "        return \"Password should not contain commas or quotes.\"\n",
    "    \n",
    "    return \"Password is valid!\"\n",
    "    \n",
    "    \n"
   ]
  },
  {
   "cell_type": "code",
   "execution_count": 4,
   "metadata": {},
   "outputs": [
    {
     "data": {
      "text/plain": [
       "'Password is valid!'"
      ]
     },
     "execution_count": 4,
     "metadata": {},
     "output_type": "execute_result"
    }
   ],
   "source": [
    "validate_('Rrkrajes@123')"
   ]
  },
  {
   "cell_type": "code",
   "execution_count": 5,
   "metadata": {},
   "outputs": [],
   "source": [
    "def mydec(fun):\n",
    "   def inner(n):\n",
    "      if not isinstance(n,int) or n<1:\n",
    "         return 'not a natural numb'\n",
    "      fun(n)\n",
    "   return inner"
   ]
  },
  {
   "cell_type": "code",
   "execution_count": 6,
   "metadata": {},
   "outputs": [],
   "source": [
    "@mydec\n",
    "def fact(n):\n",
    "    fac=1\n",
    "    for i in range(1,n+1):\n",
    "        fac *=i\n",
    "    return fac"
   ]
  },
  {
   "cell_type": "code",
   "execution_count": 7,
   "metadata": {},
   "outputs": [
    {
     "data": {
      "text/plain": [
       "'not a natural numb'"
      ]
     },
     "execution_count": 7,
     "metadata": {},
     "output_type": "execute_result"
    }
   ],
   "source": [
    "fact(-1)"
   ]
  },
  {
   "cell_type": "markdown",
   "metadata": {},
   "source": [
    "#### 12.Generate the decorator for a Garden visit to check if current time is between 7am to 7pm.  If true the only call the function else generate the error. "
   ]
  },
  {
   "cell_type": "code",
   "execution_count": 80,
   "metadata": {},
   "outputs": [],
   "source": [
    "import datetime as dt"
   ]
  },
  {
   "cell_type": "code",
   "execution_count": 84,
   "metadata": {},
   "outputs": [
    {
     "data": {
      "text/plain": [
       "int"
      ]
     },
     "execution_count": 84,
     "metadata": {},
     "output_type": "execute_result"
    }
   ],
   "source": [
    "type(dt.datetime.now().time().hour)"
   ]
  },
  {
   "cell_type": "code",
   "execution_count": 88,
   "metadata": {},
   "outputs": [],
   "source": [
    "\n",
    "def graden(fnc):\n",
    "    def wrap():\n",
    "        n = dt.datetime.now().time().hour\n",
    "        if n >= 7 and n< 21:\n",
    "            return(fnc)\n",
    "        else:\n",
    "            print(\"garden closed\")\n",
    "    return wrap"
   ]
  },
  {
   "cell_type": "code",
   "execution_count": 89,
   "metadata": {},
   "outputs": [],
   "source": [
    "@graden\n",
    "def welcome():\n",
    "    print(\"welcome to great garden\")"
   ]
  },
  {
   "cell_type": "code",
   "execution_count": 90,
   "metadata": {},
   "outputs": [
    {
     "name": "stdout",
     "output_type": "stream",
     "text": [
      "garden closed\n"
     ]
    }
   ],
   "source": [
    "welcome()"
   ]
  },
  {
   "cell_type": "markdown",
   "metadata": {},
   "source": []
  },
  {
   "cell_type": "markdown",
   "metadata": {},
   "source": [
    "#### 13.Create lambda function for sorting of the string"
   ]
  },
  {
   "cell_type": "code",
   "execution_count": 8,
   "metadata": {},
   "outputs": [],
   "source": [
    "a = lambda a : \"\".join(sorted(\" \".join(a).split()))"
   ]
  },
  {
   "cell_type": "code",
   "execution_count": 10,
   "metadata": {},
   "outputs": [
    {
     "data": {
      "text/plain": [
       "'Raehjs'"
      ]
     },
     "execution_count": 10,
     "metadata": {},
     "output_type": "execute_result"
    }
   ],
   "source": [
    "a(\"Rajesh\")"
   ]
  },
  {
   "cell_type": "markdown",
   "metadata": {},
   "source": [
    "#### 15.Create a decorator to check if all input values are alpha numeric and based on it check PAN detail  AAAAA1111X , rec.no   first 3 chr next 5 number "
   ]
  },
  {
   "cell_type": "code",
   "execution_count": 156,
   "metadata": {},
   "outputs": [],
   "source": [
    "def deco(fnc):\n",
    "    def wrap(a):\n",
    "        if a.isalnum():\n",
    "            return fnc(a)\n",
    "        else:\n",
    "            print(\"wrong format\")\n",
    "    return wrap"
   ]
  },
  {
   "cell_type": "code",
   "execution_count": 157,
   "metadata": {},
   "outputs": [],
   "source": [
    "@deco\n",
    "def vali_pan(a):\n",
    "    if re.fullmatch(\"[A-Z]{5}[0-9]{4}[A-Z]{1}\",a):\n",
    "        return a"
   ]
  },
  {
   "cell_type": "code",
   "execution_count": 159,
   "metadata": {},
   "outputs": [
    {
     "data": {
      "text/plain": [
       "'AAAAA1234A'"
      ]
     },
     "execution_count": 159,
     "metadata": {},
     "output_type": "execute_result"
    }
   ],
   "source": [
    "vali_pan(input(\"pancard\"))"
   ]
  },
  {
   "cell_type": "markdown",
   "metadata": {},
   "source": [
    "#### 16.Accept 2 values from user and perform all arithmetic operations and return all"
   ]
  },
  {
   "cell_type": "code",
   "execution_count": 164,
   "metadata": {},
   "outputs": [],
   "source": [
    "def maths():\n",
    "    try:\n",
    "        a = float(input(\"enter 1st number\"))\n",
    "        b = float(input(\"enter 2nd number\"))\n",
    "        return (a+b,a-b,a*b,a/b)\n",
    "    except :\n",
    "        print(\"only numbers allowed\")"
   ]
  },
  {
   "cell_type": "code",
   "execution_count": 165,
   "metadata": {},
   "outputs": [
    {
     "data": {
      "text/plain": [
       "(6.3, 2.3, 8.6, 2.15)"
      ]
     },
     "execution_count": 165,
     "metadata": {},
     "output_type": "execute_result"
    }
   ],
   "source": [
    "maths()"
   ]
  },
  {
   "cell_type": "markdown",
   "metadata": {},
   "source": [
    "#### 17.Ask user to enter any 3 input e.g name, marks , mobile_num\n",
    "if name is with other special characters then it should not not ask for next makrs input\n",
    "   \tnote: \n",
    "oCreate separate functions for validation of every variable \n",
    "oEvery single block should have proper exception\n",
    "oEvery function must have the docstring\n",
    "oOnce the validation is done dictionary has to be created and store the dictionary to one txt file"
   ]
  },
  {
   "cell_type": "code",
   "execution_count": null,
   "metadata": {},
   "outputs": [],
   "source": [
    "\n",
    "def valid_name(n):\n",
    "    ''' take string as input and validates if \n",
    "    only aplhabets are present'''\n",
    "    if n.isalpha():\n",
    "        return n\n",
    "\n",
    "def mark_v(m):\n",
    "    ''' take string as input and validates if \n",
    "    only numbers are present are present'''\n",
    "    try:\n",
    "        return float(m)\n",
    "    except Exception as e:\n",
    "        return e\n",
    "    \n",
    "def Mob(mob):\n",
    "    ''' take string as input and validates if \n",
    "    only numbers are present are present'''\n",
    "    if len(mob) == 10 and mob.isnumeric():\n",
    "        return mob\n",
    "\n",
    "def file_h(**b):\n",
    "    ''' take dictionary as input and add\n",
    "    content of dctionary in t.txt'''\n",
    "    try:\n",
    "        a = open(\"t.txt\",\"a\")\n",
    "        a.write(f\"Name : {b[\"name\"]} Marks : {b[\"Marks\"]} Mobile : {b[\"mobile\"]}\")\n",
    "        a.close()\n",
    "    except:\n",
    "        print(\"error in file handling\")"
   ]
  },
  {
   "cell_type": "code",
   "execution_count": null,
   "metadata": {},
   "outputs": [],
   "source": [
    "def inpu():\n",
    "    ''' ask user for name,marks and mobile number\n",
    "    and returns dictionary'''\n",
    "    \n",
    "    try:\n",
    "        name=input(\"enter the name\")\n",
    "        if valid_name(name):\n",
    "            marks = input(\"enter the marks\")\n",
    "            if mark_v(marks):\n",
    "                mobile = input(\"enter the number\")\n",
    "                if Mob(mobile):\n",
    "                    return {\"name\":name,\"Marks\":marks,\"mobile\":mobile}\n",
    "                else:\n",
    "                    raise Exception(\"wrong mobile format\")\n",
    "            else:\n",
    "                raise Exception(\"wrong marks format\")\n",
    "        else:\n",
    "                raise Exception(\"wrong name format\")\n",
    "    except Exception as e:\n",
    "         print(e)"
   ]
  },
  {
   "cell_type": "code",
   "execution_count": 206,
   "metadata": {},
   "outputs": [],
   "source": [
    "file_h(**inpu())"
   ]
  },
  {
   "cell_type": "markdown",
   "metadata": {},
   "source": [
    "#### 18.Segregate file in small , medium and large size in different folder\n",
    "ofilesize less than and equal to 10KB is small file\n",
    "ofilesize more than 10 KB is the medium file\n",
    "ofilesize more than 40 kb is the large file\n",
    "ocreate the log file "
   ]
  },
  {
   "cell_type": "code",
   "execution_count": null,
   "metadata": {},
   "outputs": [],
   "source": []
  },
  {
   "cell_type": "markdown",
   "metadata": {},
   "source": [
    "#### 19.In the hotel user is entering the details of menu, quantity and printing the bill. number of menu may varies with customer's order \n",
    "\tgenerate a file having grocery bill as per the below format"
   ]
  },
  {
   "cell_type": "code",
   "execution_count": null,
   "metadata": {},
   "outputs": [],
   "source": []
  },
  {
   "cell_type": "markdown",
   "metadata": {},
   "source": [
    "#### 20.Ask user to enter the valid file path and check which word is having more repetition in the file"
   ]
  },
  {
   "cell_type": "code",
   "execution_count": 24,
   "metadata": {},
   "outputs": [
    {
     "name": "stdout",
     "output_type": "stream",
     "text": [
      " ':' = 6 \n"
     ]
    }
   ],
   "source": [
    "import os\n",
    "\n",
    "try:\n",
    "    p= input(\"Please enter a valid file path: \")\n",
    "    f= open(p, 'r') \n",
    "    r= f.read().lower()  \n",
    "    words = r.split()    \n",
    "    c_words= {}\n",
    "\n",
    "    for i in words:\n",
    "        if i in  c_words:\n",
    "             c_words[i] += 1\n",
    "        else:\n",
    "             c_words[i] = 1\n",
    "\n",
    "    max_fre = 0\n",
    "    max_count = 0\n",
    "    for i, j in c_words.items():\n",
    "        if j > max_count:\n",
    "            max_fre = i\n",
    "            max_count = j\n",
    "\n",
    "    print(f\" '{max_fre}' = {max_count} \")\n",
    "except:\n",
    "    print(\"Invalid file path\")\n"
   ]
  },
  {
   "cell_type": "markdown",
   "metadata": {},
   "source": [
    "#### 21.Create a function which will accept the word and the file path and returns the dictionary as {word: occurances}"
   ]
  },
  {
   "cell_type": "code",
   "execution_count": null,
   "metadata": {},
   "outputs": [
    {
     "name": "stdout",
     "output_type": "stream",
     "text": [
      "{'sd': 1}\n"
     ]
    }
   ],
   "source": [
    "import os\n",
    "\n",
    "def occ(word,p):\n",
    "    try:\n",
    "        w_dict = {}\n",
    "        f= open(p, 'r') \n",
    "        content = f.read().lower()\n",
    "        words = content.split()\n",
    "        w_dict[word] = words.count(word.lower()) \n",
    "        return w_dict\n",
    "    except:\n",
    "        print(\"error\")\n",
    "\n",
    "file_path = input(\"Please enter the file path: \")\n",
    "word = input(\"Please enter the word to search for: \")\n",
    "\n",
    "result = occ(word, file_path)\n",
    "print(result)\n"
   ]
  },
  {
   "cell_type": "markdown",
   "metadata": {},
   "source": [
    "#### 22.Create a function which will accept one file and returns all occurrences of the word\n",
    "{‘market’ : 3, ‘is’:5, ‘new’:2}"
   ]
  },
  {
   "cell_type": "code",
   "execution_count": 13,
   "metadata": {},
   "outputs": [
    {
     "name": "stdout",
     "output_type": "stream",
     "text": [
      "{'sjkdfnsd': 1, 'skjdfs': 1, 'sdkjfnsd': 2, 'fsdkjfsdf': 1, 'sdkjjfs': 1, 'sff': 1, 'kskdf': 1, 'slf': 1, 'sd': 1}\n"
     ]
    }
   ],
   "source": [
    "import os\n",
    "\n",
    "def wocc(): \n",
    "    try:\n",
    "        p =input(\"enter the path\")\n",
    "        w_dict = {}\n",
    "        f= open(p, 'r')\n",
    "        content = f.read().lower()    \n",
    "        words = content.split()\n",
    "        for word in words:\n",
    "            if word in w_dict:\n",
    "                w_dict[word] += 1\n",
    "            else:\n",
    "                w_dict[word] = 1\n",
    "        return w_dict\n",
    "    except:\n",
    "        print(\"error\")\n",
    "\n",
    "\n",
    "\n",
    "result = wocc()\n",
    "print(result)\n"
   ]
  },
  {
   "cell_type": "markdown",
   "metadata": {},
   "source": [
    "#### 23.Based on logic mentioned in question number 8 create the class"
   ]
  },
  {
   "cell_type": "code",
   "execution_count": null,
   "metadata": {},
   "outputs": [],
   "source": []
  },
  {
   "cell_type": "markdown",
   "metadata": {},
   "source": [
    "#### 24.Ask user to enter the folder path. Folder may contain more than one file and with different extensions. Read only text file and return the more repetitive word"
   ]
  },
  {
   "cell_type": "code",
   "execution_count": 34,
   "metadata": {},
   "outputs": [
    {
     "name": "stdout",
     "output_type": "stream",
     "text": [
      "{'by': 54}\n"
     ]
    }
   ],
   "source": [
    "import os\n",
    "\n",
    "def only_txt():\n",
    "\n",
    "    word_count = {}\n",
    "\n",
    "    try:\n",
    "        folder_path = input(\"Please enter the folder path: \")\n",
    "        for filename in os.listdir(folder_path):\n",
    "            file_path = os.path.join(folder_path, filename)\n",
    "\n",
    "            if os.path.isfile(file_path) and filename.endswith(\".txt\"):\n",
    "                with open(file_path, 'r') as file:\n",
    "                \n",
    "                    content = file.read().lower() \n",
    "                    \n",
    "                    words = content.split()\n",
    "                    for word in words:\n",
    "                        if word in word_count:\n",
    "                            word_count[word] += 1\n",
    "                        else:\n",
    "                            word_count[word] = 1\n",
    "        \n",
    "\n",
    "        if not word_count:\n",
    "            return {\"error\": \"No words found in the text files.\"}\n",
    "        \n",
    "        most_repetitive_word = max(word_count, key=word_count.get)\n",
    "        most_repetitive_count = word_count[most_repetitive_word]\n",
    "        \n",
    "        return {most_repetitive_word: most_repetitive_count}\n",
    "    except:\n",
    "        print(\"error\")\n",
    "\n",
    "\n",
    "\n",
    "result = only_txt()\n",
    "print(result)\n"
   ]
  },
  {
   "cell_type": "markdown",
   "metadata": {},
   "source": [
    "#### 25.Create a class for file reading"
   ]
  },
  {
   "cell_type": "code",
   "execution_count": 14,
   "metadata": {},
   "outputs": [
    {
     "name": "stdout",
     "output_type": "stream",
     "text": [
      "sjkdfnsd skjdfs sdkjfnsd fsdkjfsdf sdkjjfs\n",
      "sff kskdf\n",
      "slf sdkjfnsd\n",
      "sd\n"
     ]
    }
   ],
   "source": [
    "import os\n",
    "class FileReader:\n",
    "    def __init__(self):\n",
    "        path = input(\"Enter the file path: \")\n",
    "        self.path = path\n",
    "        try:\n",
    "            self.content = self.read_file()\n",
    "        except:\n",
    "            print(\"error in constructor\")\n",
    "\n",
    "    def read_file(self):\n",
    "        try:\n",
    "            f = open(self.path, 'r') \n",
    "            return f.read()\n",
    "        except:\n",
    "            print(\"error\")\n",
    "\n",
    "\n",
    "\n",
    "try:\n",
    "    file_reader = FileReader()\n",
    "    \n",
    "    print(file_reader.read_file())\n",
    "    \n",
    "except FileNotFoundError as e:\n",
    "    print(e)\n"
   ]
  },
  {
   "cell_type": "markdown",
   "metadata": {},
   "source": [
    "#### 26.Create a function which will accept the dictionary. Dictionary may have values any date type format. If values are in integer or float then return respective key"
   ]
  },
  {
   "cell_type": "code",
   "execution_count": 37,
   "metadata": {},
   "outputs": [
    {
     "name": "stdout",
     "output_type": "stream",
     "text": [
      "Keys with numeric values: ['rugved', 'rushil']\n"
     ]
    }
   ],
   "source": [
    "def acc_dict(d1):\n",
    "\n",
    "    n = []\n",
    "    for key, value in d1.items():\n",
    "        if isinstance(value, (int, float)):\n",
    "            n.append(key)\n",
    "    return n\n",
    "\n",
    "\n",
    "result = acc_dict({'rugved':21,\"Rushi\":\"twenty seven\",\"rushil\":12.3})\n",
    "print(f\"Keys with numeric values: {result}\")\n"
   ]
  },
  {
   "cell_type": "markdown",
   "metadata": {},
   "source": [
    "#### 27.Create one decorator having exception logic inside it and create another function which will refer to the decorator in case of errors\n",
    "e.g  val_name is the function validating name but customized error should be thrown from decorator"
   ]
  },
  {
   "cell_type": "code",
   "execution_count": 13,
   "metadata": {},
   "outputs": [
    {
     "name": "stdout",
     "output_type": "stream",
     "text": [
      "Valid name\n",
      "Custom Error: The name must be at least 3 characters long.\n"
     ]
    }
   ],
   "source": [
    "class CustomValidationError(Exception):\n",
    "    \"\"\"Custom exception for validation errors.\"\"\"\n",
    "    pass\n",
    "\n",
    "def exception_handler_decorator(func):\n",
    "    def wrapper(*args, **kwargs):\n",
    "        try:\n",
    "            return func(*args, **kwargs)\n",
    "        except ValueError as ve:\n",
    "            raise CustomValidationError(f\"Custom Error: {ve}\")\n",
    "        except Exception as e:\n",
    "            raise CustomValidationError(f\"An unexpected error occurred: {e}\")\n",
    "    return wrapper\n",
    "\n",
    "@exception_handler_decorator\n",
    "def val_name(name):\n",
    "    if not isinstance(name, str):\n",
    "        raise ValueError(\"The name must be a string.\")\n",
    "    if len(name) < 3:\n",
    "        raise ValueError(\"The name must be at least 3 characters long.\")\n",
    "    \n",
    "    return \"Valid name\"\n",
    "try:\n",
    "    result = val_name(\"Alice\")\n",
    "    print(result)\n",
    "    result = val_name(\"Al\")\n",
    "    print(result)\n",
    "\n",
    "except CustomValidationError as e:\n",
    "    print(e)\n"
   ]
  },
  {
   "cell_type": "markdown",
   "metadata": {},
   "source": [
    "#### 28.Create a class User.  User will be instantiated based on key available in the dictionary. If dictionary is not having the key then generate error. If dictionary is having the key then display values against the same."
   ]
  },
  {
   "cell_type": "code",
   "execution_count": 45,
   "metadata": {},
   "outputs": [
    {
     "name": "stdout",
     "output_type": "stream",
     "text": [
      "two : pam\n"
     ]
    }
   ],
   "source": [
    "\n",
    "class User:\n",
    "    def __init__(self, d1):\n",
    "        try:\n",
    "            i= input(f\"enter from {d1.keys()} \")\n",
    "            if i  in d1:\n",
    "                self.key = i\n",
    "                self.value = d1[i]\n",
    "            else:\n",
    "                raise Exception(f\"Error: '{i}' key not found \")\n",
    "        except Exception as e:\n",
    "            print(e)\n",
    "\n",
    "    def display(self):\n",
    "        print(f\"{self.key} : {self.value}\")\n",
    "\n",
    "\n",
    "    user = User({\"one\":\"jim\",\"two\":\"pam\",\"three\":\"dwight\"})\n",
    "    user.display()\n",
    "\n"
   ]
  },
  {
   "cell_type": "markdown",
   "metadata": {},
   "source": [
    "#### 29.Create a class pharma. One user A will enter the medicine name and price.  Another user B will generate the bill based on entry done by the first user"
   ]
  },
  {
   "cell_type": "code",
   "execution_count": null,
   "metadata": {},
   "outputs": [],
   "source": []
  },
  {
   "cell_type": "markdown",
   "metadata": {},
   "source": [
    "#### 30.Read the file if the file contains number, then return the dictionary based on position and values of the number.\n",
    "For example: \n",
    "31.Create a class for file reading file if the file contains number, then return the dictionary based on user object, having sub dictionary position and values of the number against that user file."
   ]
  },
  {
   "cell_type": "code",
   "execution_count": 49,
   "metadata": {},
   "outputs": [
    {
     "name": "stdout",
     "output_type": "stream",
     "text": [
      "User Data: {'Rughwed': {'positions_and_values': {4: 58, 12: 71, 20: 70, 23: 1234567890}}}\n"
     ]
    }
   ],
   "source": [
    "import os\n",
    "\n",
    "class FileReader:\n",
    "    def __init__(self):\n",
    "        self.file_path = input(\"file path\")\n",
    "        self.user = input(\"username\")\n",
    "        self.data = {}\n",
    "        self.read_file()\n",
    "\n",
    "    def read_file(self):\n",
    "        \"\"\"Reads the file and processes it to find numbers and their positions.\"\"\"\n",
    "        if not os.path.isfile(self.file_path):\n",
    "            raise FileNotFoundError(f\"The file '{self.file_path}' was not found.\")\n",
    "        \n",
    "        with open(self.file_path, 'r') as file:\n",
    "            content = file.read()\n",
    "\n",
    "        # Parse the content and extract numbers along with their positions\n",
    "        numbers = {}\n",
    "        for index, word in enumerate(content.split()):\n",
    "            if word.isdigit():  # Check if the word is a number\n",
    "                numbers[index] = int(word)  # Store position and value (as integer)\n",
    "\n",
    "        # Save the numbers for the user in the data dictionary\n",
    "        self.data[self.user] = {\"positions_and_values\": numbers}\n",
    "\n",
    "    def get_user_data(self):\n",
    "        \"\"\"Returns the dictionary with user data.\"\"\"\n",
    "        return self.data\n",
    "\n",
    "# Example usage:\n",
    "\n",
    "try:\n",
    "    # Create an instance of FileReader for the given file and user\n",
    "    file_reader = FileReader()\n",
    "    \n",
    "    # Get the dictionary with positions and values of numbers\n",
    "    result = file_reader.get_user_data()\n",
    "    \n",
    "    print(\"User Data:\", result)\n",
    "\n",
    "except (FileNotFoundError, ValueError) as e:\n",
    "    print(e)\n"
   ]
  },
  {
   "cell_type": "markdown",
   "metadata": {},
   "source": [
    "#### 32.In hotel booking portal, user will enter pan card name and mobile number, store the same information into dictionary after successful booking user will get confirmation number. "
   ]
  },
  {
   "cell_type": "code",
   "execution_count": 8,
   "metadata": {},
   "outputs": [
    {
     "data": {
      "text/plain": [
       "1802"
      ]
     },
     "execution_count": 8,
     "metadata": {},
     "output_type": "execute_result"
    }
   ],
   "source": [
    "import random\n",
    "int(random.random()*10000)"
   ]
  },
  {
   "cell_type": "code",
   "execution_count": null,
   "metadata": {},
   "outputs": [
    {
     "name": "stdout",
     "output_type": "stream",
     "text": [
      "Booking confirmed! Your confirmation number is: 8UJ3OKCC\n"
     ]
    }
   ],
   "source": [
    "import random\n",
    "\n",
    "class hotel:\n",
    "    def __init__(self):\n",
    "        self.isbook = False\n",
    "        self.cfn_no = None\n",
    "    def generate_confirmation_number(self):\n",
    "        if self.isbook:\n",
    "            self.cfn_no = int(random.random()*10000)\n",
    "\n",
    "    def book_room(self, pan_card_name, mobile_number):\n",
    "        self.pan = input(\"Enter valid pan card details\")\n",
    "        # sel\n",
    "        \n",
    "        # Return the confirmation number\n",
    "        return f\"Booking confirmed! Your confirmation number is: {confirmation_number}\"\n",
    "\n",
    "# Example usage:\n",
    "if __name__ == \"__main__\":\n",
    "    hotel_booking_system = HotelBooking()\n",
    "    \n",
    "    try:\n",
    "        # Get the user details\n",
    "        pan_card_name = input(\"Enter your PAN card name: \")\n",
    "        mobile_number = input(\"Enter your mobile number: \")\n",
    "        \n",
    "        # Book the room and get the confirmation number\n",
    "        confirmation_message = hotel_booking_system.book_room(pan_card_name, mobile_number)\n",
    "        \n",
    "        # Display the confirmation message\n",
    "        print(confirmation_message)\n",
    "        \n",
    "    except ValueError as e:\n",
    "        print(f\"Error: {e}\")\n"
   ]
  },
  {
   "cell_type": "markdown",
   "metadata": {},
   "source": [
    "#### 33.Create a super class user. Having methods register, sing in, sign out.    Super class can be inherited by student, professor, admin\n",
    "\n",
    "Admin and students can view the marks and professor can enter the marks\n",
    "But marks can be visible to students on the given result date"
   ]
  },
  {
   "cell_type": "code",
   "execution_count": 63,
   "metadata": {},
   "outputs": [],
   "source": [
    "def exc_han(fnc):\n",
    "    def wrap(*a, **s):\n",
    "        try:\n",
    "            return fnc(*a, **s)  \n",
    "        except Exception:\n",
    "            print(sys.exc_info()) \n",
    "    return wrap"
   ]
  },
  {
   "cell_type": "code",
   "execution_count": null,
   "metadata": {},
   "outputs": [],
   "source": [
    "import datetime\n",
    "\n",
    "class User:\n",
    "    @exc_han\n",
    "    def __init__(self):\n",
    "        self.name = input(\"name\")\n",
    "        self.email = input(\"email\")\n",
    "        self.islog= False\n",
    "        print(f\"{self.name} registered successfully\")\n",
    "    \n",
    "    @exc_han\n",
    "    def loggin(self):\n",
    "        self.islog = True\n",
    "        print(f\"{self.name} logged in\")\n",
    "    @exc_han\n",
    "    def sign_out(self):\n",
    "        if self.islog:\n",
    "            self.islog = False\n",
    "            print(f\"{self.name} logout.\")\n",
    "        else:\n",
    "            print(\"loggin first\")\n",
    "        \n",
    "\n",
    "class Professor(User):\n",
    "    @exc_han\n",
    "    def __init__(self):\n",
    "        super().__init__()\n",
    "\n",
    "\n",
    "    @exc_han\n",
    "    def enter_marks(self,sobj):\n",
    "        if self.islog:\n",
    "            sobj.marks = input(f\"give marks for {sobj.name}\")\n",
    "        else:\n",
    "            print(\"loggin first\")\n",
    "        \n",
    "        \n",
    "class Student(User):\n",
    "    @exc_han\n",
    "    def __init__(self):\n",
    "        super().__init__()\n",
    "        self.result_date = datetime.datetime.strptime(input(\"date in format dd-mm-yyyy\"),\"%d-%m-%Y\")  #input(\"date in format dd-mm-yyyy\")\n",
    "        self.marks = 0\n",
    "\n",
    "    @exc_han\n",
    "    def view_marks(self):\n",
    "        if self.islog:\n",
    "            if datetime.datetime.now().date() == self.result_date:\n",
    "                    print(f\"{self.name}'s Marks: {self.marks}\")\n",
    "            else:\n",
    "                print(f\"come n result day\")\n",
    "        else:\n",
    "            print(\"loggin first\")\n",
    "        \n",
    "\n",
    "\n",
    "\n",
    "\n",
    "        "
   ]
  },
  {
   "cell_type": "code",
   "execution_count": null,
   "metadata": {},
   "outputs": [],
   "source": [
    "class Admin(User):\n",
    "    @exc_han\n",
    "    def __init__(self):\n",
    "        super().__init__()\n",
    "        \n",
    "    @exc_han\n",
    "    def view_marks(self, sobj):\n",
    "        if self.islog:\n",
    "            print(f\"{sobj.name} got {sobj.marks}\")\n",
    "        else:\n",
    "            print(\"loggin first\")\n",
    "        "
   ]
  },
  {
   "cell_type": "code",
   "execution_count": 55,
   "metadata": {},
   "outputs": [
    {
     "name": "stdout",
     "output_type": "stream",
     "text": [
      "Rughwed registered successfully\n"
     ]
    }
   ],
   "source": [
    "e1 = Student()"
   ]
  },
  {
   "cell_type": "code",
   "execution_count": 56,
   "metadata": {},
   "outputs": [
    {
     "name": "stdout",
     "output_type": "stream",
     "text": [
      "come n result day\n"
     ]
    }
   ],
   "source": [
    "e1.view_marks()"
   ]
  },
  {
   "cell_type": "code",
   "execution_count": 57,
   "metadata": {},
   "outputs": [
    {
     "name": "stdout",
     "output_type": "stream",
     "text": [
      "bina registered successfully\n"
     ]
    }
   ],
   "source": [
    "p1 = Professor()"
   ]
  },
  {
   "cell_type": "code",
   "execution_count": 58,
   "metadata": {},
   "outputs": [],
   "source": [
    "p1.enter_marks(e1)"
   ]
  },
  {
   "cell_type": "code",
   "execution_count": 61,
   "metadata": {},
   "outputs": [
    {
     "name": "stdout",
     "output_type": "stream",
     "text": [
      "Admin registered successfully\n"
     ]
    }
   ],
   "source": [
    "a1= Admin()"
   ]
  },
  {
   "cell_type": "code",
   "execution_count": 62,
   "metadata": {},
   "outputs": [
    {
     "name": "stdout",
     "output_type": "stream",
     "text": [
      "Rughwed got 77\n"
     ]
    }
   ],
   "source": [
    "a1.view_marks(e1)"
   ]
  },
  {
   "cell_type": "markdown",
   "metadata": {},
   "source": [
    "#### 34.Create suitable classes, methods and attributes for resume exchange. Employee to upload the file and the same file is visible to employer "
   ]
  },
  {
   "cell_type": "code",
   "execution_count": 7,
   "metadata": {},
   "outputs": [],
   "source": [
    "import shutil\n",
    "import sys\n",
    "import re\n",
    "import logging"
   ]
  },
  {
   "cell_type": "code",
   "execution_count": 8,
   "metadata": {},
   "outputs": [],
   "source": [
    "def exc_han(fnc):\n",
    "    def wrap(*a, **s):\n",
    "        try:\n",
    "            return fnc(*a, **s)  \n",
    "        except Exception:\n",
    "            print(sys.exc_info()) \n",
    "    return wrap"
   ]
  },
  {
   "cell_type": "code",
   "execution_count": 9,
   "metadata": {},
   "outputs": [],
   "source": [
    "@exc_han\n",
    "def valid_name():\n",
    " \n",
    "    while True:\n",
    "        a = input('Enter the name')\n",
    "        if a.isalpha():\n",
    "            return a.title()\n",
    "        else:\n",
    "            continue\n",
    "@exc_han\n",
    "def passw():\n",
    "     while True:\n",
    "        a = input('Enter the Password')\n",
    "        if re.fullmatch(r'(?=.*[A-z])(?=.*[a-z])(?=.*[0-9])(?=.*[!@#$%^&*])[A-za-z0-9!@#$%^&*()]{8,}',a):\n",
    "            return a\n",
    "        else:\n",
    "            continue"
   ]
  },
  {
   "cell_type": "code",
   "execution_count": null,
   "metadata": {},
   "outputs": [],
   "source": [
    "class Naukri:\n",
    "    @exc_han\n",
    "    def __init__(self):\n",
    "        self.name=valid_name()\n",
    "        self.__pass =passw()\n",
    "        self.dir = r'C:\\Users\\Admin\\Desktop\\naukri'\n",
    "        self.islog = False\n",
    "        logging.basicConfig(level=logging.DEBUG)\n",
    "    \n",
    "        \n",
    "        self.debu = logging.getLogger(f'{self.name}')\n",
    "        x = logging.FileHandler(f'{self.name}')\n",
    "        x.setLevel(logging.DEBUG)\n",
    "        self.debu.addHandler(x)\n",
    "\n",
    "    @exc_han\n",
    "    def log(self):\n",
    "        a = input(\"enter the name\")\n",
    "        b = input('enter the password')\n",
    "        if a==self.name:\n",
    "            if b==self.__pass:\n",
    "                self.islog=True\n",
    "                self.debu.info(f'{self.name} successfully loggedin')\n",
    "            else:\n",
    "                print(\"wrong password\")\n",
    "                self.debu.critical(\"wrong password detected\")\n",
    "        else:\n",
    "            print(\"wrong name\")\n",
    "            self.debu.critical(\"wrong username\")"
   ]
  },
  {
   "cell_type": "code",
   "execution_count": 11,
   "metadata": {},
   "outputs": [
    {
     "name": "stderr",
     "output_type": "stream",
     "text": [
      "<string>:15: SyntaxWarning: invalid escape sequence '\\{'\n",
      "<>:15: SyntaxWarning: invalid escape sequence '\\{'\n",
      "<string>:15: SyntaxWarning: invalid escape sequence '\\{'\n",
      "<>:15: SyntaxWarning: invalid escape sequence '\\{'\n",
      "C:\\Users\\Admin\\AppData\\Local\\Temp\\ipykernel_18812\\2792605044.py:15: SyntaxWarning: invalid escape sequence '\\{'\n",
      "  self.file = f'{self.dir}\\{self.isdoc}'\n"
     ]
    }
   ],
   "source": [
    "class employe(Naukri):\n",
    "    @exc_han\n",
    "    def __init__(self):\n",
    "         super().__init__()\n",
    "         self.debu.info(f\"{self.name} successfully Registered\")\n",
    "\n",
    "    @exc_han\n",
    "    def upl(self):\n",
    "        if self.islog:\n",
    "            try:\n",
    "                self.isdoc = input(\"file.name\")+'.DOCX'\n",
    "                open(self.isdoc,'w')\n",
    "                shutil.copy(self.isdoc,self.dir)\n",
    "                self.debu.info(f'{self.isdoc} successfully uploaded')\n",
    "                self.file = f'{self.dir}\\{self.isdoc}'\n",
    "                print(rf'{self.file}','\\nupload ur resume here')\n",
    "\n",
    "            except:\n",
    "                self.debu.error(sys.exc_info())\n",
    "        else:\n",
    "            print(\"user not loggedin\")\n",
    "            "
   ]
  },
  {
   "cell_type": "code",
   "execution_count": 12,
   "metadata": {},
   "outputs": [],
   "source": [
    "class employer(Naukri):\n",
    "    @exc_han\n",
    "    def __init__(self):\n",
    "        super().__init__()\n",
    "        self.debu.info(f\"{self.name} successfully Registered\")\n",
    "\n",
    "    @exc_han\n",
    "    def task(self,obj):\n",
    "          if self.islog:\n",
    "            try:\n",
    "                print(rf'{obj.file}')\n",
    "                self.debu.info(f\"viewing the resume of {obj.name}\")\n",
    "               \n",
    "\n",
    "            except:\n",
    "                self.debu.error(sys.exc_info())\n",
    "          else:\n",
    "            print(\"user not loggedin\")\n",
    "            "
   ]
  },
  {
   "cell_type": "markdown",
   "metadata": {},
   "source": [
    "35.Perform the database connectivity and save all employee details in the database \n",
    "Like name, mobile, address\n",
    "\n",
    "Create the proper class with methods like user information, calculate the salary, apply for the leave, view leaves, approve leaves. Records for leave application should be stored in dummy table (temporary view). Once the leave is approved then it should move to permanent table."
   ]
  },
  {
   "cell_type": "code",
   "execution_count": 4,
   "metadata": {},
   "outputs": [],
   "source": [
    "import pyodbc"
   ]
  },
  {
   "cell_type": "code",
   "execution_count": 5,
   "metadata": {},
   "outputs": [],
   "source": [
    "\n",
    "conn = pyodbc.connect('Driver={SQL Server};'\n",
    "               r'Server=DESKTOP-RE2Q22H\\MSSQLSERVER01;'\n",
    "               'Database=new;'\n",
    "               'Trusted_Connection=yes;')"
   ]
  },
  {
   "cell_type": "code",
   "execution_count": 6,
   "metadata": {},
   "outputs": [
    {
     "ename": "IntegrityError",
     "evalue": "('23000', \"[23000] [Microsoft][ODBC SQL Server Driver][SQL Server]Violation of UNIQUE KEY constraint 'UQ__regions__DDD673515A4DB291'. Cannot insert duplicate key in object 'dbo.regions'. The duplicate key value is (swap). (2627) (SQLExecDirectW); [23000] [Microsoft][ODBC SQL Server Driver][SQL Server]The statement has been terminated. (3621)\")",
     "output_type": "error",
     "traceback": [
      "\u001b[1;31m---------------------------------------------------------------------------\u001b[0m",
      "\u001b[1;31mIntegrityError\u001b[0m                            Traceback (most recent call last)",
      "Cell \u001b[1;32mIn[6], line 2\u001b[0m\n\u001b[0;32m      1\u001b[0m cursor \u001b[38;5;241m=\u001b[39m conn\u001b[38;5;241m.\u001b[39mcursor()\n\u001b[1;32m----> 2\u001b[0m \u001b[43mcursor\u001b[49m\u001b[38;5;241;43m.\u001b[39;49m\u001b[43mexecute\u001b[49m\u001b[43m(\u001b[49m\u001b[38;5;124;43m\"\u001b[39;49m\u001b[38;5;124;43minsert into dbo.regions values(\u001b[39;49m\u001b[38;5;124;43m'\u001b[39;49m\u001b[38;5;124;43mswap\u001b[39;49m\u001b[38;5;124;43m'\u001b[39;49m\u001b[38;5;124;43m,\u001b[39;49m\u001b[38;5;124;43m'\u001b[39;49m\u001b[38;5;124;43masia\u001b[39;49m\u001b[38;5;124;43m'\u001b[39;49m\u001b[38;5;124;43m,\u001b[39;49m\u001b[38;5;124;43m'\u001b[39;49m\u001b[38;5;124;43m2024-01-01\u001b[39;49m\u001b[38;5;124;43m'\u001b[39;49m\u001b[38;5;124;43m)\u001b[39;49m\u001b[38;5;124;43m\"\u001b[39;49m\u001b[43m)\u001b[49m\n",
      "\u001b[1;31mIntegrityError\u001b[0m: ('23000', \"[23000] [Microsoft][ODBC SQL Server Driver][SQL Server]Violation of UNIQUE KEY constraint 'UQ__regions__DDD673515A4DB291'. Cannot insert duplicate key in object 'dbo.regions'. The duplicate key value is (swap). (2627) (SQLExecDirectW); [23000] [Microsoft][ODBC SQL Server Driver][SQL Server]The statement has been terminated. (3621)\")"
     ]
    }
   ],
   "source": [
    "cursor = conn.cursor()\n",
    "cursor.execute(\"insert into dbo.regions values('swap','asia','2024-01-01')\")"
   ]
  },
  {
   "cell_type": "code",
   "execution_count": null,
   "metadata": {},
   "outputs": [],
   "source": [
    "class office:\n",
    "    def __init__(self):\n",
    "        self.name = input(\"employee name\")\n",
    "        self.salary=int(input(\"enter salary\"))\n",
    "        self.iapl = False\n",
    "        self.leave = 0\n",
    "    \n",
    "    \n",
    "class employee(office):\n",
    "    def __init__(self):\n",
    "        super().__init__()\n",
    "    \n",
    "    def apply_leave(self):\n",
    "        temp = int(input(\"no of days\"))\n",
    "        self.isapl = True\n",
    "        self.leave = self.leave + temp\n",
    "\n",
    "    def approve_leave(self):\n",
    "        if self.isapl:\n",
    "            pass\n",
    "        else:\n",
    "            print(\"apply first\")\n",
    "        \n",
    "        \n",
    "\n"
   ]
  },
  {
   "cell_type": "code",
   "execution_count": null,
   "metadata": {},
   "outputs": [],
   "source": []
  }
 ],
 "metadata": {
  "kernelspec": {
   "display_name": "Python 3",
   "language": "python",
   "name": "python3"
  },
  "language_info": {
   "codemirror_mode": {
    "name": "ipython",
    "version": 3
   },
   "file_extension": ".py",
   "mimetype": "text/x-python",
   "name": "python",
   "nbconvert_exporter": "python",
   "pygments_lexer": "ipython3",
   "version": "3.13.1"
  }
 },
 "nbformat": 4,
 "nbformat_minor": 2
}

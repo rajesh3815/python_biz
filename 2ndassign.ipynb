{
 "cells": [
  {
   "cell_type": "code",
   "execution_count": 3,
   "metadata": {},
   "outputs": [
    {
     "name": "stdout",
     "output_type": "stream",
     "text": [
      "Wednesday, 2025-01-08 Task Alloted is coding\n",
      "Thursday, 2025-01-09 Task Alloted is coding\n",
      "Friday, 2025-01-10 Task Alloted is coding\n",
      "Saturday, 2025-01-11 is a weekend. No task assigned.\n",
      "Sunday, 2025-01-12 is a weekend. No task assigned.\n",
      "Monday, 2025-01-13 Task Alloted is coding\n"
     ]
    }
   ],
   "source": [
    "from datetime import datetime, timedelta\n",
    "\n",
    "# Input dates\n",
    "start_date = datetime.strptime(input(\"Enter the start date (YYYY-MM-DD): \"), \"%Y-%m-%d\")\n",
    "end_date = datetime.strptime(input(\"Enter the end date (YYYY-MM-DD): \"), \"%Y-%m-%d\")\n",
    "\n",
    "# Generate all dates between start and end dates using a for loop\n",
    "days = (end_date - start_date).days + 1\n",
    "for i in range(days):\n",
    "    current_date = start_date + timedelta(days=i)\n",
    "    if current_date.weekday() < 5:  # Weekday check\n",
    "        task = input(f\"Task for {current_date.strftime('%A, %Y-%m-%d')}: \")\n",
    "        print(f\"{current_date.strftime('%A, %Y-%m-%d')} Task Alloted is {task}\")\n",
    "    else:\n",
    "        print(f\"{current_date.strftime('%A, %Y-%m-%d')} is a weekend. No task assigned.\")\n"
   ]
  }
 ],
 "metadata": {
  "kernelspec": {
   "display_name": "Python 3",
   "language": "python",
   "name": "python3"
  },
  "language_info": {
   "codemirror_mode": {
    "name": "ipython",
    "version": 3
   },
   "file_extension": ".py",
   "mimetype": "text/x-python",
   "name": "python",
   "nbconvert_exporter": "python",
   "pygments_lexer": "ipython3",
   "version": "3.12.1"
  }
 },
 "nbformat": 4,
 "nbformat_minor": 2
}

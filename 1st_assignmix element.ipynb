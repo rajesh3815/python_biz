{
 "cells": [
  {
   "cell_type": "code",
   "execution_count": 9,
   "metadata": {},
   "outputs": [
    {
     "name": "stdout",
     "output_type": "stream",
     "text": [
      "Strings:  ['We', 'We', 'Er', 'We', 'Er', 'To']\n",
      "Integers:  ['12', '12', '23', '12', '23', '12', '23', '12', '23']\n"
     ]
    }
   ],
   "source": [
    "a = []\n",
    "b = []\n",
    "c = []\n",
    "\n",
    "while True:\n",
    "    input_str = input(\"Enter a value from[1,2] \").capitalize\n",
    "\n",
    "    if input_str == \"2\":\n",
    "        break\n",
    "    else:\n",
    "        a.append(input_str)\n",
    "        for i in a:\n",
    "            if i.isalpha():\n",
    "                b.append(i)\n",
    "            elif i.isdigit():\n",
    "                c.append(i)\n",
    "            else:\n",
    "                print(\"Invalid input\")\n",
    "\n",
    "\n",
    "print(\"Strings: \", b)\n",
    "print(\"Integers: \", c)\n"
   ]
  }
 ],
 "metadata": {
  "kernelspec": {
   "display_name": "base",
   "language": "python",
   "name": "python3"
  },
  "language_info": {
   "codemirror_mode": {
    "name": "ipython",
    "version": 3
   },
   "file_extension": ".py",
   "mimetype": "text/x-python",
   "name": "python",
   "nbconvert_exporter": "python",
   "pygments_lexer": "ipython3",
   "version": "3.10.9"
  }
 },
 "nbformat": 4,
 "nbformat_minor": 2
}

{
 "cells": [
  {
   "cell_type": "code",
   "execution_count": 8,
   "metadata": {},
   "outputs": [
    {
     "name": "stdout",
     "output_type": "stream",
     "text": [
      "This functions calculates the age\n",
      "    based on the Dob and current date \n",
      "Your age is 1 years\n"
     ]
    }
   ],
   "source": [
    "import datetime\n",
    "from datetime import datetime\n",
    "\n",
    "Today_dt=datetime.today()   \n",
    "\n",
    "def cal_age():\n",
    "    \"\"\"This functions calculates the age\n",
    "    based on the Dob and current date \"\"\"\n",
    "    try:\n",
    "        Birth_dt=datetime.strptime(input(\"Enter your DOB in format[YY-MM-DD]\"),\"%Y-%m-%d\")\n",
    "\n",
    "        age=Today_dt.year-Birth_dt.year\n",
    "\n",
    "        #where bday hasnt occured\n",
    "        if (Today_dt.month,Today_dt.day)<(Birth_dt.month,Birth_dt.day):\n",
    "            age-=1\n",
    "        if age<1:\n",
    "            age_mnths=(Today_dt.year-Birth_dt.year)*12+(Today_dt.month-Birth_dt.month)\n",
    "            if Today_dt.day<Birth_dt.day:\n",
    "                age_mnths-=1\n",
    "            if age_mnths<1:\n",
    "                age_days=(Today_dt.day-Birth_dt.day)\n",
    "                print(f\"You are of: {age_days} days\")\n",
    "            else:\n",
    "                print(f\"You are of: {age_mnths} months\")\n",
    "        else:\n",
    "            print(f\"Your age is {age} years\")\n",
    "    except ValueError:\n",
    "        print(\"Please enter valid value as shown in given format\")\n",
    "          \n",
    "print(cal_age.__doc__)\n",
    "cal_age()"
   ]
  }
 ],
 "metadata": {
  "kernelspec": {
   "display_name": "Python 3",
   "language": "python",
   "name": "python3"
  },
  "language_info": {
   "codemirror_mode": {
    "name": "ipython",
    "version": 3
   },
   "file_extension": ".py",
   "mimetype": "text/x-python",
   "name": "python",
   "nbconvert_exporter": "python",
   "pygments_lexer": "ipython3",
   "version": "3.12.1"
  }
 },
 "nbformat": 4,
 "nbformat_minor": 2
}

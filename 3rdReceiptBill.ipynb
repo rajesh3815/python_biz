{
 "cells": [
  {
   "cell_type": "code",
   "execution_count": 20,
   "metadata": {},
   "outputs": [
    {
     "name": "stdout",
     "output_type": "stream",
     "text": [
      "=======================================================\n",
      "               Welcome to D-Palace Resto               \n",
      "                         Bill                          \n",
      "                                         Date: 01/09/25\n",
      "                                      Time: 16:10:07 PM\n",
      "=======================================================\n",
      "                    Customer Name:                     \n",
      "                         Abhi                          \n",
      "-------------------------------------------------------\n",
      "       Item        Qty      Price     Total Price\n",
      "-------------------------------------------------------\n",
      "       idli          1         20         20\n",
      "       dosa          2         20         40\n",
      "        tea          4         40        160\n",
      "-------------------------------------------------------\n",
      "                    Total bill: 220                    \n",
      "=======================================================\n",
      "                Thankyou for Visiting!                 \n",
      "                  Please visit again!                  \n",
      "=======================================================\n"
     ]
    }
   ],
   "source": [
    "from datetime import datetime\n",
    "from datetime import date\n",
    "from datetime import time\n",
    "dt=datetime.now()\n",
    "dat=dt.strftime(\"%D\")\n",
    "wat=dt.time()\n",
    "w=wat.strftime('%H:%M:%S %p')\n",
    "print(\"{:=^55}\".format(\"\"))\n",
    "print(\"{:^55}\".format(\"Welcome to D-Palace Resto\"))\n",
    "print(\"{:^55}\".format(\"Bill\"))\n",
    "print(\"{:>55}\".format(f\"Date: {dat}\"))\n",
    "print(\"{:>55}\".format(f\"Time: {w}\"))\n",
    "print(\"{:=^55}\".format(\"\"))\n",
    "print(\"{:^55}\".format(\"Customer Name: \"))\n",
    "Name=input(\"Enter the Customer Name: \")\n",
    "print(\"{:^55}\".format(Name))\n",
    "print(\"{:-^55}\".format(\"\"))\n",
    "print(\" {:>10} {:>10} {:>10} {:>15}\".format(\"Item\",\"Qty\",\"Price\",\"Total Price\"))\n",
    "print(\"{:-^55}\".format(\"\"))\n",
    "sum=0\n",
    "while True:\n",
    "    choice=int(input(\"Enter Your Choice in no. from [1.Add Item, 2.Print Reciept]\"))\n",
    "    if choice==1:\n",
    "        Item=input(\"Enter the Item Name: \")\n",
    "        Qty=int(input(\"Enter the Quantity of Item: \"))\n",
    "        Price=int(input(\"Enter the Price of the Item: \"))\n",
    "        Total_Price=Qty*Price\n",
    "        sum+=Total_Price\n",
    "        print(\" {:>10} {:>10} {:>10} {:>10}\".format(Item,Qty,Price,Total_Price))\n",
    "    if choice==2:\n",
    "        print(\"{:-^55}\".format(\"\"))\n",
    "        print(\"{:^55}\".format(f\"Total bill: {sum}\"))\n",
    "        print(\"{:=^55}\".format(\"\"))\n",
    "        print(\"{:^55}\".format(\"Thankyou for Visiting!\"))\n",
    "        print(\"{:^55}\".format(\"Please visit again!\"))\n",
    "        print(\"{:=^55}\".format(\"\"))\n",
    "        break\n",
    "        "
   ]
  }
 ],
 "metadata": {
  "kernelspec": {
   "display_name": "Python 3",
   "language": "python",
   "name": "python3"
  },
  "language_info": {
   "codemirror_mode": {
    "name": "ipython",
    "version": 3
   },
   "file_extension": ".py",
   "mimetype": "text/x-python",
   "name": "python",
   "nbconvert_exporter": "python",
   "pygments_lexer": "ipython3",
   "version": "3.12.1"
  }
 },
 "nbformat": 4,
 "nbformat_minor": 2
}
